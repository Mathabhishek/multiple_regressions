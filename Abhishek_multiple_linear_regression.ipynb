{
  "nbformat": 4,
  "nbformat_minor": 0,
  "metadata": {
    "colab": {
      "provenance": [],
      "collapsed_sections": [
        "VadrvE7s_lS9",
        "WemVnqgeA70k",
        "xNkXL1YQBiBT"
      ],
      "include_colab_link": true
    },
    "kernelspec": {
      "name": "python3",
      "display_name": "Python 3"
    }
  },
  "cells": [
    {
      "cell_type": "markdown",
      "metadata": {
        "id": "view-in-github",
        "colab_type": "text"
      },
      "source": [
        "<a href=\"https://colab.research.google.com/github/Mathabhishek/multiple_regressions/blob/main/Abhishek_multiple_linear_regression.ipynb\" target=\"_parent\"><img src=\"https://colab.research.google.com/assets/colab-badge.svg\" alt=\"Open In Colab\"/></a>"
      ]
    },
    {
      "cell_type": "markdown",
      "metadata": {
        "id": "CazISR8X_HUG"
      },
      "source": [
        "# Multiple Linear Regression"
      ]
    },
    {
      "cell_type": "markdown",
      "metadata": {
        "id": "pOyqYHTk_Q57"
      },
      "source": [
        "## Importing the libraries"
      ]
    },
    {
      "cell_type": "code",
      "source": [
        "import numpy as np #to work with arrays\n",
        "import pandas as pd #to work with data set\n",
        "import matplotlib.pyplot as plt #to visualize the data"
      ],
      "metadata": {
        "id": "FYmceobTgLqY"
      },
      "execution_count": 3,
      "outputs": []
    },
    {
      "cell_type": "markdown",
      "metadata": {
        "id": "vgC61-ah_WIz"
      },
      "source": [
        "## Importing the dataset"
      ]
    },
    {
      "cell_type": "code",
      "source": [
        "dataset = pd.read_csv('Successful_Startups.csv')\n",
        "x = dataset.iloc[: , :-1].values\n",
        "y = dataset.iloc[: , -1].values"
      ],
      "metadata": {
        "id": "JyIZAouXgM1I"
      },
      "execution_count": 2,
      "outputs": []
    },
    {
      "cell_type": "code",
      "source": [
        "print(x)"
      ],
      "metadata": {
        "colab": {
          "base_uri": "https://localhost:8080/"
        },
        "collapsed": true,
        "id": "JBG0f_D7zB5P",
        "outputId": "fee93d05-c03c-4a86-f3a3-32739d434f3b"
      },
      "execution_count": 4,
      "outputs": [
        {
          "output_type": "stream",
          "name": "stdout",
          "text": [
            "[[165349.2 136897.8 471784.1 'Season1']\n",
            " [162597.7 151377.59 443898.53 'Season2']\n",
            " [153441.51 101145.55 407934.54 'Season3']\n",
            " [144372.41 118671.85 383199.62 'Season1']\n",
            " [142107.34 91391.77 366168.42 'Season3']\n",
            " [131876.9 99814.71 362861.36 'Season1']\n",
            " [134615.46 147198.87 127716.82 'Season2']\n",
            " [130298.13 145530.06 323876.68 'Season3']\n",
            " [120542.52 148718.95 311613.29 'Season1']\n",
            " [123334.88 108679.17 304981.62 'Season2']\n",
            " [101913.08 110594.11 229160.95 'Season3']\n",
            " [100671.96 91790.61 249744.55 'Season2']\n",
            " [93863.75 127320.38 249839.44 'Season3']\n",
            " [91992.39 135495.07 252664.93 'Season2']\n",
            " [119943.24 156547.42 256512.92 'Season3']\n",
            " [114523.61 122616.84 261776.23 'Season1']\n",
            " [78013.11 121597.55 264346.06 'Season2']\n",
            " [94657.16 145077.58 282574.31 'Season1']\n",
            " [91749.16 114175.79 294919.57 'Season3']\n",
            " [86419.7 153514.11 0.0 'Season1']\n",
            " [76253.86 113867.3 298664.47 'Season2']\n",
            " [78389.47 153773.43 299737.29 'Season1']\n",
            " [73994.56 122782.75 303319.26 'Season3']\n",
            " [67532.53 105751.03 304768.73 'Season3']\n",
            " [77044.01 99281.34 140574.81 'Season1']\n",
            " [64664.71 139553.16 137962.62 'Season2']\n",
            " [75328.87 144135.98 134050.07 'Season3']\n",
            " [72107.6 127864.55 353183.81 'Season1']\n",
            " [66051.52 182645.56 118148.2 'Season3']\n",
            " [65605.48 153032.06 107138.38 'Season1']\n",
            " [61994.48 115641.28 91131.24 'Season3']\n",
            " [61136.38 152701.92 88218.23 'Season1']\n",
            " [63408.86 129219.61 46085.25 'Season2']\n",
            " [55493.95 103057.49 214634.81 'Season3']\n",
            " [46426.07 157693.92 210797.67 'Season2']\n",
            " [46014.02 85047.44 205517.64 'Season1']\n",
            " [28663.76 127056.21 201126.82 'Season3']\n",
            " [44069.95 51283.14 197029.42 'Season2']\n",
            " [20229.59 65947.93 185265.1 'Season1']\n",
            " [38558.51 82982.09 174999.3 'Season2']\n",
            " [28754.33 118546.05 172795.67 'Season2']\n",
            " [27892.92 84710.77 164470.71 'Season3']\n",
            " [23640.93 96189.63 148001.11 'Season2']\n",
            " [15505.73 127382.3 35534.17 'Season1']\n",
            " [22177.74 154806.14 28334.72 'Season2']\n",
            " [1000.23 124153.04 1903.93 'Season1']\n",
            " [1315.46 115816.21 297114.46 'Season3']\n",
            " [0.0 135426.92 0.0 'Season2']\n",
            " [542.05 51743.15 0.0 'Season1']\n",
            " [0.0 116983.8 45173.06 'Season2']]\n"
          ]
        }
      ]
    },
    {
      "cell_type": "markdown",
      "metadata": {
        "id": "VadrvE7s_lS9"
      },
      "source": [
        "## Encoding categorical data"
      ]
    },
    {
      "cell_type": "code",
      "source": [
        "from sklearn.compose import ColumnTransformer\n",
        "from sklearn.preprocessing import OneHotEncoder\n",
        "ct = ColumnTransformer(transformers = [('encoder', OneHotEncoder(), [3])], remainder= 'passthrough')\n",
        "x = np.array(ct.fit_transform(x))"
      ],
      "metadata": {
        "id": "5Ch-1in2g24g"
      },
      "execution_count": 5,
      "outputs": []
    },
    {
      "cell_type": "code",
      "source": [
        "print(x)"
      ],
      "metadata": {
        "colab": {
          "base_uri": "https://localhost:8080/"
        },
        "collapsed": true,
        "id": "PCp7pe4W0EIm",
        "outputId": "b1c2b7d2-61ed-4c6b-9899-1bf899ff4a31"
      },
      "execution_count": 6,
      "outputs": [
        {
          "output_type": "stream",
          "name": "stdout",
          "text": [
            "[[1.0 0.0 0.0 165349.2 136897.8 471784.1]\n",
            " [0.0 1.0 0.0 162597.7 151377.59 443898.53]\n",
            " [0.0 0.0 1.0 153441.51 101145.55 407934.54]\n",
            " [1.0 0.0 0.0 144372.41 118671.85 383199.62]\n",
            " [0.0 0.0 1.0 142107.34 91391.77 366168.42]\n",
            " [1.0 0.0 0.0 131876.9 99814.71 362861.36]\n",
            " [0.0 1.0 0.0 134615.46 147198.87 127716.82]\n",
            " [0.0 0.0 1.0 130298.13 145530.06 323876.68]\n",
            " [1.0 0.0 0.0 120542.52 148718.95 311613.29]\n",
            " [0.0 1.0 0.0 123334.88 108679.17 304981.62]\n",
            " [0.0 0.0 1.0 101913.08 110594.11 229160.95]\n",
            " [0.0 1.0 0.0 100671.96 91790.61 249744.55]\n",
            " [0.0 0.0 1.0 93863.75 127320.38 249839.44]\n",
            " [0.0 1.0 0.0 91992.39 135495.07 252664.93]\n",
            " [0.0 0.0 1.0 119943.24 156547.42 256512.92]\n",
            " [1.0 0.0 0.0 114523.61 122616.84 261776.23]\n",
            " [0.0 1.0 0.0 78013.11 121597.55 264346.06]\n",
            " [1.0 0.0 0.0 94657.16 145077.58 282574.31]\n",
            " [0.0 0.0 1.0 91749.16 114175.79 294919.57]\n",
            " [1.0 0.0 0.0 86419.7 153514.11 0.0]\n",
            " [0.0 1.0 0.0 76253.86 113867.3 298664.47]\n",
            " [1.0 0.0 0.0 78389.47 153773.43 299737.29]\n",
            " [0.0 0.0 1.0 73994.56 122782.75 303319.26]\n",
            " [0.0 0.0 1.0 67532.53 105751.03 304768.73]\n",
            " [1.0 0.0 0.0 77044.01 99281.34 140574.81]\n",
            " [0.0 1.0 0.0 64664.71 139553.16 137962.62]\n",
            " [0.0 0.0 1.0 75328.87 144135.98 134050.07]\n",
            " [1.0 0.0 0.0 72107.6 127864.55 353183.81]\n",
            " [0.0 0.0 1.0 66051.52 182645.56 118148.2]\n",
            " [1.0 0.0 0.0 65605.48 153032.06 107138.38]\n",
            " [0.0 0.0 1.0 61994.48 115641.28 91131.24]\n",
            " [1.0 0.0 0.0 61136.38 152701.92 88218.23]\n",
            " [0.0 1.0 0.0 63408.86 129219.61 46085.25]\n",
            " [0.0 0.0 1.0 55493.95 103057.49 214634.81]\n",
            " [0.0 1.0 0.0 46426.07 157693.92 210797.67]\n",
            " [1.0 0.0 0.0 46014.02 85047.44 205517.64]\n",
            " [0.0 0.0 1.0 28663.76 127056.21 201126.82]\n",
            " [0.0 1.0 0.0 44069.95 51283.14 197029.42]\n",
            " [1.0 0.0 0.0 20229.59 65947.93 185265.1]\n",
            " [0.0 1.0 0.0 38558.51 82982.09 174999.3]\n",
            " [0.0 1.0 0.0 28754.33 118546.05 172795.67]\n",
            " [0.0 0.0 1.0 27892.92 84710.77 164470.71]\n",
            " [0.0 1.0 0.0 23640.93 96189.63 148001.11]\n",
            " [1.0 0.0 0.0 15505.73 127382.3 35534.17]\n",
            " [0.0 1.0 0.0 22177.74 154806.14 28334.72]\n",
            " [1.0 0.0 0.0 1000.23 124153.04 1903.93]\n",
            " [0.0 0.0 1.0 1315.46 115816.21 297114.46]\n",
            " [0.0 1.0 0.0 0.0 135426.92 0.0]\n",
            " [1.0 0.0 0.0 542.05 51743.15 0.0]\n",
            " [0.0 1.0 0.0 0.0 116983.8 45173.06]]\n"
          ]
        }
      ]
    },
    {
      "cell_type": "markdown",
      "metadata": {
        "id": "WemVnqgeA70k"
      },
      "source": [
        "## Splitting the dataset into the Training set and Test set"
      ]
    },
    {
      "cell_type": "code",
      "source": [
        "from sklearn.model_selection import train_test_split\n",
        "x_train, x_test, y_train, y_test = train_test_split(x,y, test_size = 0.2, random_state= 0)"
      ],
      "metadata": {
        "id": "JPVCGSS_0Rs2"
      },
      "execution_count": 7,
      "outputs": []
    },
    {
      "cell_type": "code",
      "source": [
        "print(x_train)"
      ],
      "metadata": {
        "colab": {
          "base_uri": "https://localhost:8080/"
        },
        "collapsed": true,
        "id": "AblFG13i0xZA",
        "outputId": "7c3a3e4f-b8b4-42f0-9490-cfd864afed8e"
      },
      "execution_count": 8,
      "outputs": [
        {
          "output_type": "stream",
          "name": "stdout",
          "text": [
            "[[0.0 0.0 1.0 55493.95 103057.49 214634.81]\n",
            " [1.0 0.0 0.0 46014.02 85047.44 205517.64]\n",
            " [0.0 0.0 1.0 75328.87 144135.98 134050.07]\n",
            " [0.0 1.0 0.0 46426.07 157693.92 210797.67]\n",
            " [0.0 0.0 1.0 91749.16 114175.79 294919.57]\n",
            " [0.0 0.0 1.0 130298.13 145530.06 323876.68]\n",
            " [0.0 0.0 1.0 119943.24 156547.42 256512.92]\n",
            " [1.0 0.0 0.0 1000.23 124153.04 1903.93]\n",
            " [1.0 0.0 0.0 542.05 51743.15 0.0]\n",
            " [1.0 0.0 0.0 65605.48 153032.06 107138.38]\n",
            " [1.0 0.0 0.0 114523.61 122616.84 261776.23]\n",
            " [0.0 0.0 1.0 61994.48 115641.28 91131.24]\n",
            " [0.0 1.0 0.0 63408.86 129219.61 46085.25]\n",
            " [0.0 1.0 0.0 78013.11 121597.55 264346.06]\n",
            " [0.0 1.0 0.0 23640.93 96189.63 148001.11]\n",
            " [0.0 1.0 0.0 76253.86 113867.3 298664.47]\n",
            " [1.0 0.0 0.0 15505.73 127382.3 35534.17]\n",
            " [1.0 0.0 0.0 120542.52 148718.95 311613.29]\n",
            " [0.0 1.0 0.0 91992.39 135495.07 252664.93]\n",
            " [0.0 1.0 0.0 64664.71 139553.16 137962.62]\n",
            " [1.0 0.0 0.0 131876.9 99814.71 362861.36]\n",
            " [1.0 0.0 0.0 94657.16 145077.58 282574.31]\n",
            " [0.0 1.0 0.0 28754.33 118546.05 172795.67]\n",
            " [0.0 1.0 0.0 0.0 116983.8 45173.06]\n",
            " [0.0 1.0 0.0 162597.7 151377.59 443898.53]\n",
            " [0.0 0.0 1.0 93863.75 127320.38 249839.44]\n",
            " [0.0 1.0 0.0 44069.95 51283.14 197029.42]\n",
            " [1.0 0.0 0.0 77044.01 99281.34 140574.81]\n",
            " [0.0 1.0 0.0 134615.46 147198.87 127716.82]\n",
            " [0.0 0.0 1.0 67532.53 105751.03 304768.73]\n",
            " [0.0 0.0 1.0 28663.76 127056.21 201126.82]\n",
            " [1.0 0.0 0.0 78389.47 153773.43 299737.29]\n",
            " [1.0 0.0 0.0 86419.7 153514.11 0.0]\n",
            " [0.0 1.0 0.0 123334.88 108679.17 304981.62]\n",
            " [0.0 1.0 0.0 38558.51 82982.09 174999.3]\n",
            " [0.0 0.0 1.0 1315.46 115816.21 297114.46]\n",
            " [1.0 0.0 0.0 144372.41 118671.85 383199.62]\n",
            " [1.0 0.0 0.0 165349.2 136897.8 471784.1]\n",
            " [0.0 1.0 0.0 0.0 135426.92 0.0]\n",
            " [0.0 1.0 0.0 22177.74 154806.14 28334.72]]\n"
          ]
        }
      ]
    },
    {
      "cell_type": "markdown",
      "metadata": {
        "id": "k-McZVsQBINc"
      },
      "source": [
        "## Training the Multiple Linear Regression model on the Training set"
      ]
    },
    {
      "cell_type": "code",
      "source": [
        "from sklearn.linear_model import LinearRegression\n",
        "regressor = LinearRegression()\n",
        "regressor.fit(x_train, y_train)"
      ],
      "metadata": {
        "id": "IAaTeL5xglKB",
        "colab": {
          "base_uri": "https://localhost:8080/",
          "height": 80
        },
        "outputId": "4b620d31-3ba4-4c96-fe7a-8fa45e10203c"
      },
      "execution_count": 9,
      "outputs": [
        {
          "output_type": "execute_result",
          "data": {
            "text/plain": [
              "LinearRegression()"
            ],
            "text/html": [
              "<style>#sk-container-id-1 {\n",
              "  /* Definition of color scheme common for light and dark mode */\n",
              "  --sklearn-color-text: black;\n",
              "  --sklearn-color-line: gray;\n",
              "  /* Definition of color scheme for unfitted estimators */\n",
              "  --sklearn-color-unfitted-level-0: #fff5e6;\n",
              "  --sklearn-color-unfitted-level-1: #f6e4d2;\n",
              "  --sklearn-color-unfitted-level-2: #ffe0b3;\n",
              "  --sklearn-color-unfitted-level-3: chocolate;\n",
              "  /* Definition of color scheme for fitted estimators */\n",
              "  --sklearn-color-fitted-level-0: #f0f8ff;\n",
              "  --sklearn-color-fitted-level-1: #d4ebff;\n",
              "  --sklearn-color-fitted-level-2: #b3dbfd;\n",
              "  --sklearn-color-fitted-level-3: cornflowerblue;\n",
              "\n",
              "  /* Specific color for light theme */\n",
              "  --sklearn-color-text-on-default-background: var(--sg-text-color, var(--theme-code-foreground, var(--jp-content-font-color1, black)));\n",
              "  --sklearn-color-background: var(--sg-background-color, var(--theme-background, var(--jp-layout-color0, white)));\n",
              "  --sklearn-color-border-box: var(--sg-text-color, var(--theme-code-foreground, var(--jp-content-font-color1, black)));\n",
              "  --sklearn-color-icon: #696969;\n",
              "\n",
              "  @media (prefers-color-scheme: dark) {\n",
              "    /* Redefinition of color scheme for dark theme */\n",
              "    --sklearn-color-text-on-default-background: var(--sg-text-color, var(--theme-code-foreground, var(--jp-content-font-color1, white)));\n",
              "    --sklearn-color-background: var(--sg-background-color, var(--theme-background, var(--jp-layout-color0, #111)));\n",
              "    --sklearn-color-border-box: var(--sg-text-color, var(--theme-code-foreground, var(--jp-content-font-color1, white)));\n",
              "    --sklearn-color-icon: #878787;\n",
              "  }\n",
              "}\n",
              "\n",
              "#sk-container-id-1 {\n",
              "  color: var(--sklearn-color-text);\n",
              "}\n",
              "\n",
              "#sk-container-id-1 pre {\n",
              "  padding: 0;\n",
              "}\n",
              "\n",
              "#sk-container-id-1 input.sk-hidden--visually {\n",
              "  border: 0;\n",
              "  clip: rect(1px 1px 1px 1px);\n",
              "  clip: rect(1px, 1px, 1px, 1px);\n",
              "  height: 1px;\n",
              "  margin: -1px;\n",
              "  overflow: hidden;\n",
              "  padding: 0;\n",
              "  position: absolute;\n",
              "  width: 1px;\n",
              "}\n",
              "\n",
              "#sk-container-id-1 div.sk-dashed-wrapped {\n",
              "  border: 1px dashed var(--sklearn-color-line);\n",
              "  margin: 0 0.4em 0.5em 0.4em;\n",
              "  box-sizing: border-box;\n",
              "  padding-bottom: 0.4em;\n",
              "  background-color: var(--sklearn-color-background);\n",
              "}\n",
              "\n",
              "#sk-container-id-1 div.sk-container {\n",
              "  /* jupyter's `normalize.less` sets `[hidden] { display: none; }`\n",
              "     but bootstrap.min.css set `[hidden] { display: none !important; }`\n",
              "     so we also need the `!important` here to be able to override the\n",
              "     default hidden behavior on the sphinx rendered scikit-learn.org.\n",
              "     See: https://github.com/scikit-learn/scikit-learn/issues/21755 */\n",
              "  display: inline-block !important;\n",
              "  position: relative;\n",
              "}\n",
              "\n",
              "#sk-container-id-1 div.sk-text-repr-fallback {\n",
              "  display: none;\n",
              "}\n",
              "\n",
              "div.sk-parallel-item,\n",
              "div.sk-serial,\n",
              "div.sk-item {\n",
              "  /* draw centered vertical line to link estimators */\n",
              "  background-image: linear-gradient(var(--sklearn-color-text-on-default-background), var(--sklearn-color-text-on-default-background));\n",
              "  background-size: 2px 100%;\n",
              "  background-repeat: no-repeat;\n",
              "  background-position: center center;\n",
              "}\n",
              "\n",
              "/* Parallel-specific style estimator block */\n",
              "\n",
              "#sk-container-id-1 div.sk-parallel-item::after {\n",
              "  content: \"\";\n",
              "  width: 100%;\n",
              "  border-bottom: 2px solid var(--sklearn-color-text-on-default-background);\n",
              "  flex-grow: 1;\n",
              "}\n",
              "\n",
              "#sk-container-id-1 div.sk-parallel {\n",
              "  display: flex;\n",
              "  align-items: stretch;\n",
              "  justify-content: center;\n",
              "  background-color: var(--sklearn-color-background);\n",
              "  position: relative;\n",
              "}\n",
              "\n",
              "#sk-container-id-1 div.sk-parallel-item {\n",
              "  display: flex;\n",
              "  flex-direction: column;\n",
              "}\n",
              "\n",
              "#sk-container-id-1 div.sk-parallel-item:first-child::after {\n",
              "  align-self: flex-end;\n",
              "  width: 50%;\n",
              "}\n",
              "\n",
              "#sk-container-id-1 div.sk-parallel-item:last-child::after {\n",
              "  align-self: flex-start;\n",
              "  width: 50%;\n",
              "}\n",
              "\n",
              "#sk-container-id-1 div.sk-parallel-item:only-child::after {\n",
              "  width: 0;\n",
              "}\n",
              "\n",
              "/* Serial-specific style estimator block */\n",
              "\n",
              "#sk-container-id-1 div.sk-serial {\n",
              "  display: flex;\n",
              "  flex-direction: column;\n",
              "  align-items: center;\n",
              "  background-color: var(--sklearn-color-background);\n",
              "  padding-right: 1em;\n",
              "  padding-left: 1em;\n",
              "}\n",
              "\n",
              "\n",
              "/* Toggleable style: style used for estimator/Pipeline/ColumnTransformer box that is\n",
              "clickable and can be expanded/collapsed.\n",
              "- Pipeline and ColumnTransformer use this feature and define the default style\n",
              "- Estimators will overwrite some part of the style using the `sk-estimator` class\n",
              "*/\n",
              "\n",
              "/* Pipeline and ColumnTransformer style (default) */\n",
              "\n",
              "#sk-container-id-1 div.sk-toggleable {\n",
              "  /* Default theme specific background. It is overwritten whether we have a\n",
              "  specific estimator or a Pipeline/ColumnTransformer */\n",
              "  background-color: var(--sklearn-color-background);\n",
              "}\n",
              "\n",
              "/* Toggleable label */\n",
              "#sk-container-id-1 label.sk-toggleable__label {\n",
              "  cursor: pointer;\n",
              "  display: block;\n",
              "  width: 100%;\n",
              "  margin-bottom: 0;\n",
              "  padding: 0.5em;\n",
              "  box-sizing: border-box;\n",
              "  text-align: center;\n",
              "}\n",
              "\n",
              "#sk-container-id-1 label.sk-toggleable__label-arrow:before {\n",
              "  /* Arrow on the left of the label */\n",
              "  content: \"▸\";\n",
              "  float: left;\n",
              "  margin-right: 0.25em;\n",
              "  color: var(--sklearn-color-icon);\n",
              "}\n",
              "\n",
              "#sk-container-id-1 label.sk-toggleable__label-arrow:hover:before {\n",
              "  color: var(--sklearn-color-text);\n",
              "}\n",
              "\n",
              "/* Toggleable content - dropdown */\n",
              "\n",
              "#sk-container-id-1 div.sk-toggleable__content {\n",
              "  max-height: 0;\n",
              "  max-width: 0;\n",
              "  overflow: hidden;\n",
              "  text-align: left;\n",
              "  /* unfitted */\n",
              "  background-color: var(--sklearn-color-unfitted-level-0);\n",
              "}\n",
              "\n",
              "#sk-container-id-1 div.sk-toggleable__content.fitted {\n",
              "  /* fitted */\n",
              "  background-color: var(--sklearn-color-fitted-level-0);\n",
              "}\n",
              "\n",
              "#sk-container-id-1 div.sk-toggleable__content pre {\n",
              "  margin: 0.2em;\n",
              "  border-radius: 0.25em;\n",
              "  color: var(--sklearn-color-text);\n",
              "  /* unfitted */\n",
              "  background-color: var(--sklearn-color-unfitted-level-0);\n",
              "}\n",
              "\n",
              "#sk-container-id-1 div.sk-toggleable__content.fitted pre {\n",
              "  /* unfitted */\n",
              "  background-color: var(--sklearn-color-fitted-level-0);\n",
              "}\n",
              "\n",
              "#sk-container-id-1 input.sk-toggleable__control:checked~div.sk-toggleable__content {\n",
              "  /* Expand drop-down */\n",
              "  max-height: 200px;\n",
              "  max-width: 100%;\n",
              "  overflow: auto;\n",
              "}\n",
              "\n",
              "#sk-container-id-1 input.sk-toggleable__control:checked~label.sk-toggleable__label-arrow:before {\n",
              "  content: \"▾\";\n",
              "}\n",
              "\n",
              "/* Pipeline/ColumnTransformer-specific style */\n",
              "\n",
              "#sk-container-id-1 div.sk-label input.sk-toggleable__control:checked~label.sk-toggleable__label {\n",
              "  color: var(--sklearn-color-text);\n",
              "  background-color: var(--sklearn-color-unfitted-level-2);\n",
              "}\n",
              "\n",
              "#sk-container-id-1 div.sk-label.fitted input.sk-toggleable__control:checked~label.sk-toggleable__label {\n",
              "  background-color: var(--sklearn-color-fitted-level-2);\n",
              "}\n",
              "\n",
              "/* Estimator-specific style */\n",
              "\n",
              "/* Colorize estimator box */\n",
              "#sk-container-id-1 div.sk-estimator input.sk-toggleable__control:checked~label.sk-toggleable__label {\n",
              "  /* unfitted */\n",
              "  background-color: var(--sklearn-color-unfitted-level-2);\n",
              "}\n",
              "\n",
              "#sk-container-id-1 div.sk-estimator.fitted input.sk-toggleable__control:checked~label.sk-toggleable__label {\n",
              "  /* fitted */\n",
              "  background-color: var(--sklearn-color-fitted-level-2);\n",
              "}\n",
              "\n",
              "#sk-container-id-1 div.sk-label label.sk-toggleable__label,\n",
              "#sk-container-id-1 div.sk-label label {\n",
              "  /* The background is the default theme color */\n",
              "  color: var(--sklearn-color-text-on-default-background);\n",
              "}\n",
              "\n",
              "/* On hover, darken the color of the background */\n",
              "#sk-container-id-1 div.sk-label:hover label.sk-toggleable__label {\n",
              "  color: var(--sklearn-color-text);\n",
              "  background-color: var(--sklearn-color-unfitted-level-2);\n",
              "}\n",
              "\n",
              "/* Label box, darken color on hover, fitted */\n",
              "#sk-container-id-1 div.sk-label.fitted:hover label.sk-toggleable__label.fitted {\n",
              "  color: var(--sklearn-color-text);\n",
              "  background-color: var(--sklearn-color-fitted-level-2);\n",
              "}\n",
              "\n",
              "/* Estimator label */\n",
              "\n",
              "#sk-container-id-1 div.sk-label label {\n",
              "  font-family: monospace;\n",
              "  font-weight: bold;\n",
              "  display: inline-block;\n",
              "  line-height: 1.2em;\n",
              "}\n",
              "\n",
              "#sk-container-id-1 div.sk-label-container {\n",
              "  text-align: center;\n",
              "}\n",
              "\n",
              "/* Estimator-specific */\n",
              "#sk-container-id-1 div.sk-estimator {\n",
              "  font-family: monospace;\n",
              "  border: 1px dotted var(--sklearn-color-border-box);\n",
              "  border-radius: 0.25em;\n",
              "  box-sizing: border-box;\n",
              "  margin-bottom: 0.5em;\n",
              "  /* unfitted */\n",
              "  background-color: var(--sklearn-color-unfitted-level-0);\n",
              "}\n",
              "\n",
              "#sk-container-id-1 div.sk-estimator.fitted {\n",
              "  /* fitted */\n",
              "  background-color: var(--sklearn-color-fitted-level-0);\n",
              "}\n",
              "\n",
              "/* on hover */\n",
              "#sk-container-id-1 div.sk-estimator:hover {\n",
              "  /* unfitted */\n",
              "  background-color: var(--sklearn-color-unfitted-level-2);\n",
              "}\n",
              "\n",
              "#sk-container-id-1 div.sk-estimator.fitted:hover {\n",
              "  /* fitted */\n",
              "  background-color: var(--sklearn-color-fitted-level-2);\n",
              "}\n",
              "\n",
              "/* Specification for estimator info (e.g. \"i\" and \"?\") */\n",
              "\n",
              "/* Common style for \"i\" and \"?\" */\n",
              "\n",
              ".sk-estimator-doc-link,\n",
              "a:link.sk-estimator-doc-link,\n",
              "a:visited.sk-estimator-doc-link {\n",
              "  float: right;\n",
              "  font-size: smaller;\n",
              "  line-height: 1em;\n",
              "  font-family: monospace;\n",
              "  background-color: var(--sklearn-color-background);\n",
              "  border-radius: 1em;\n",
              "  height: 1em;\n",
              "  width: 1em;\n",
              "  text-decoration: none !important;\n",
              "  margin-left: 1ex;\n",
              "  /* unfitted */\n",
              "  border: var(--sklearn-color-unfitted-level-1) 1pt solid;\n",
              "  color: var(--sklearn-color-unfitted-level-1);\n",
              "}\n",
              "\n",
              ".sk-estimator-doc-link.fitted,\n",
              "a:link.sk-estimator-doc-link.fitted,\n",
              "a:visited.sk-estimator-doc-link.fitted {\n",
              "  /* fitted */\n",
              "  border: var(--sklearn-color-fitted-level-1) 1pt solid;\n",
              "  color: var(--sklearn-color-fitted-level-1);\n",
              "}\n",
              "\n",
              "/* On hover */\n",
              "div.sk-estimator:hover .sk-estimator-doc-link:hover,\n",
              ".sk-estimator-doc-link:hover,\n",
              "div.sk-label-container:hover .sk-estimator-doc-link:hover,\n",
              ".sk-estimator-doc-link:hover {\n",
              "  /* unfitted */\n",
              "  background-color: var(--sklearn-color-unfitted-level-3);\n",
              "  color: var(--sklearn-color-background);\n",
              "  text-decoration: none;\n",
              "}\n",
              "\n",
              "div.sk-estimator.fitted:hover .sk-estimator-doc-link.fitted:hover,\n",
              ".sk-estimator-doc-link.fitted:hover,\n",
              "div.sk-label-container:hover .sk-estimator-doc-link.fitted:hover,\n",
              ".sk-estimator-doc-link.fitted:hover {\n",
              "  /* fitted */\n",
              "  background-color: var(--sklearn-color-fitted-level-3);\n",
              "  color: var(--sklearn-color-background);\n",
              "  text-decoration: none;\n",
              "}\n",
              "\n",
              "/* Span, style for the box shown on hovering the info icon */\n",
              ".sk-estimator-doc-link span {\n",
              "  display: none;\n",
              "  z-index: 9999;\n",
              "  position: relative;\n",
              "  font-weight: normal;\n",
              "  right: .2ex;\n",
              "  padding: .5ex;\n",
              "  margin: .5ex;\n",
              "  width: min-content;\n",
              "  min-width: 20ex;\n",
              "  max-width: 50ex;\n",
              "  color: var(--sklearn-color-text);\n",
              "  box-shadow: 2pt 2pt 4pt #999;\n",
              "  /* unfitted */\n",
              "  background: var(--sklearn-color-unfitted-level-0);\n",
              "  border: .5pt solid var(--sklearn-color-unfitted-level-3);\n",
              "}\n",
              "\n",
              ".sk-estimator-doc-link.fitted span {\n",
              "  /* fitted */\n",
              "  background: var(--sklearn-color-fitted-level-0);\n",
              "  border: var(--sklearn-color-fitted-level-3);\n",
              "}\n",
              "\n",
              ".sk-estimator-doc-link:hover span {\n",
              "  display: block;\n",
              "}\n",
              "\n",
              "/* \"?\"-specific style due to the `<a>` HTML tag */\n",
              "\n",
              "#sk-container-id-1 a.estimator_doc_link {\n",
              "  float: right;\n",
              "  font-size: 1rem;\n",
              "  line-height: 1em;\n",
              "  font-family: monospace;\n",
              "  background-color: var(--sklearn-color-background);\n",
              "  border-radius: 1rem;\n",
              "  height: 1rem;\n",
              "  width: 1rem;\n",
              "  text-decoration: none;\n",
              "  /* unfitted */\n",
              "  color: var(--sklearn-color-unfitted-level-1);\n",
              "  border: var(--sklearn-color-unfitted-level-1) 1pt solid;\n",
              "}\n",
              "\n",
              "#sk-container-id-1 a.estimator_doc_link.fitted {\n",
              "  /* fitted */\n",
              "  border: var(--sklearn-color-fitted-level-1) 1pt solid;\n",
              "  color: var(--sklearn-color-fitted-level-1);\n",
              "}\n",
              "\n",
              "/* On hover */\n",
              "#sk-container-id-1 a.estimator_doc_link:hover {\n",
              "  /* unfitted */\n",
              "  background-color: var(--sklearn-color-unfitted-level-3);\n",
              "  color: var(--sklearn-color-background);\n",
              "  text-decoration: none;\n",
              "}\n",
              "\n",
              "#sk-container-id-1 a.estimator_doc_link.fitted:hover {\n",
              "  /* fitted */\n",
              "  background-color: var(--sklearn-color-fitted-level-3);\n",
              "}\n",
              "</style><div id=\"sk-container-id-1\" class=\"sk-top-container\"><div class=\"sk-text-repr-fallback\"><pre>LinearRegression()</pre><b>In a Jupyter environment, please rerun this cell to show the HTML representation or trust the notebook. <br />On GitHub, the HTML representation is unable to render, please try loading this page with nbviewer.org.</b></div><div class=\"sk-container\" hidden><div class=\"sk-item\"><div class=\"sk-estimator fitted sk-toggleable\"><input class=\"sk-toggleable__control sk-hidden--visually\" id=\"sk-estimator-id-1\" type=\"checkbox\" checked><label for=\"sk-estimator-id-1\" class=\"sk-toggleable__label fitted sk-toggleable__label-arrow fitted\">&nbsp;&nbsp;LinearRegression<a class=\"sk-estimator-doc-link fitted\" rel=\"noreferrer\" target=\"_blank\" href=\"https://scikit-learn.org/1.5/modules/generated/sklearn.linear_model.LinearRegression.html\">?<span>Documentation for LinearRegression</span></a><span class=\"sk-estimator-doc-link fitted\">i<span>Fitted</span></span></label><div class=\"sk-toggleable__content fitted\"><pre>LinearRegression()</pre></div> </div></div></div></div>"
            ]
          },
          "metadata": {},
          "execution_count": 9
        }
      ]
    },
    {
      "cell_type": "markdown",
      "metadata": {
        "id": "xNkXL1YQBiBT"
      },
      "source": [
        "## Predicting the Test set results"
      ]
    },
    {
      "cell_type": "code",
      "source": [
        "y_pred = regressor.predict(x_test)\n",
        "#print(y_test)\n",
        "#print(y_pred)\n",
        "np.set_printoptions(precision=2)\n",
        "print(np.concatenate((y_pred.reshape(len(y_pred),1), y_test.reshape(len(y_test), 1)),1))"
      ],
      "metadata": {
        "colab": {
          "base_uri": "https://localhost:8080/"
        },
        "id": "yk5Xh9Hn178c",
        "outputId": "869f1d56-72b9-42b1-d15f-5a49ce5617b2"
      },
      "execution_count": 14,
      "outputs": [
        {
          "output_type": "stream",
          "name": "stdout",
          "text": [
            "[[103015.2  103282.38]\n",
            " [132582.28 144259.4 ]\n",
            " [132447.74 146121.95]\n",
            " [ 71976.1   77798.83]\n",
            " [178537.48 191050.39]\n",
            " [116161.24 105008.31]\n",
            " [ 67851.69  81229.06]\n",
            " [ 98791.73  97483.56]\n",
            " [113969.44 110352.25]\n",
            " [167921.07 166187.94]]\n"
          ]
        }
      ]
    },
    {
      "cell_type": "markdown",
      "source": [
        "## Visualize the result to check accuracy"
      ],
      "metadata": {
        "id": "YEYJqKt2X4TW"
      }
    },
    {
      "cell_type": "code",
      "source": [
        "plt.figure(figsize = (8,6))\n",
        "plt.scatter(y_test, y_pred, color ='blue', alpha = 0.7)\n",
        "plt.xlabel(\"Actual values \")\n",
        "plt.ylabel(\"Predicted values\")\n",
        "plt.title(\"Actual values vs Predicted values\")\n",
        "\n",
        "plt.plot([min(y_test), max(y_test)],[min(y_test), max(y_test)], color ='red', alpha = 0.7, linestyle = '--')\n",
        "plt.show()"
      ],
      "metadata": {
        "id": "03-5UFwuX4xe",
        "colab": {
          "base_uri": "https://localhost:8080/",
          "height": 564
        },
        "outputId": "f2e9b6df-8109-4b6d-f6d8-706a2e1b1efc"
      },
      "execution_count": 16,
      "outputs": [
        {
          "output_type": "display_data",
          "data": {
            "text/plain": [
              "<Figure size 800x600 with 1 Axes>"
            ],
            "image/png": "[encoded data removed]"
          },
          "metadata": {}
        }
      ]
    }
  ]
}